{
 "metadata": {
  "language_info": {
   "codemirror_mode": {
    "name": "ipython",
    "version": 3
   },
   "file_extension": ".py",
   "mimetype": "text/x-python",
   "name": "python",
   "nbconvert_exporter": "python",
   "pygments_lexer": "ipython3",
   "version": "3.9.4"
  },
  "orig_nbformat": 2,
  "kernelspec": {
   "name": "python394jvsc74a57bd0fb6dc278eaf46337f157fd5f29dab5662c775017231cc3fc65508b31a9a39794",
   "display_name": "Python 3.9.4 64-bit"
  },
  "metadata": {
   "interpreter": {
    "hash": "fb6dc278eaf46337f157fd5f29dab5662c775017231cc3fc65508b31a9a39794"
   }
  }
 },
 "nbformat": 4,
 "nbformat_minor": 2,
 "cells": [
  {
   "cell_type": "code",
   "execution_count": 32,
   "metadata": {},
   "outputs": [
    {
     "output_type": "stream",
     "name": "stdout",
     "text": [
      "fruits:  ['lime', 'apple', 'banana', 'durian', 'pear', 'fruit', 'pomegranate']\nreversed fruits:  ['pomegranate', 'fruit', 'pear', 'durian', 'banana', 'apple', 'lime']\nsorted fruits:  ['apple', 'banana', 'durian', 'fruit', 'lime', 'pear', 'pomegranate']\nmixed fruits:  ['lime', 'pomegranate', 'pear', 'apple', 'fruit', 'durian', 'banana']\n"
     ]
    }
   ],
   "source": [
    "import random\n",
    "\n",
    "#1. Given the following list [‘apple’, ‘banana’, ‘grape’, ‘fruit’, ‘cherry’, ‘melon’]\n",
    "fruits = [\"apple\", \"banana\", \"grape\", \"fruit\", \"cherry\", \"melon\"]\n",
    "#a. Add ‘pomegranate’ to the end of the list\n",
    "fruits.append (\"pomegranate\")\n",
    "#b. Add ‘lime’ to the front of the list\n",
    "fruits.insert(0, \"lime\")\n",
    "#c. Replace the ‘fruit’ entry with ‘pear’\n",
    "fruits[3] = \"pear\"\n",
    "#d. Remove ‘cherry’ from the list\n",
    "fruits.remove(\"cherry\")\n",
    "#e. Add ‘durian’ at index 3 in the list\n",
    "fruits.insert(3, \"durian\")\n",
    "#f. Remove the 7th item in the list (7th item NOT index 7)\n",
    "del fruits[6]\n",
    "#g. Create a new list called ‘reverseFruits’ with the above list contents in reverse order.\n",
    "reverseFruits = fruits.copy()\n",
    "reverseFruits.reverse()\n",
    "#h. Create a new list called ‘sortedFruits’ that is the fruit list in sorted order.\n",
    "sortedFruits = fruits.copy()\n",
    "sortedFruits.sort()\n",
    "#i. Create a new list called ‘mixedFruits’ that is the fruit list shuffled randomly\n",
    "   #** you will need to look up and use random.shuffle() to do this\n",
    "mixedFruits = fruits.copy()\n",
    "random.shuffle(mixedFruits)\n",
    "\n",
    "print (\"fruits: \", fruits)\n",
    "print (\"reversed fruits: \", reverseFruits)\n",
    "print (\"sorted fruits: \", sortedFruits)\n",
    "print (\"mixed fruits: \", mixedFruits)"
   ]
  },
  {
   "cell_type": "code",
   "execution_count": 44,
   "metadata": {},
   "outputs": [
    {
     "output_type": "stream",
     "name": "stdout",
     "text": [
      "4\n8\n22\n43\n42\n12\n8\n10\n1\n10\n32\n28\n8\n42\n13\n[4, 8, 22, 43, 12, 8, 10, 1, 10, 32, 28, 8, 13]\n[4, 8, 22, 43, 12, 8, 10, 7, 10, 32, 28, 8, 13]\n[1, 5, 11]\n"
     ]
    }
   ],
   "source": [
    "#2. Given the following list [4, 8, 22, 43, 42, 12, 8, 10, 1, 10, 32, 28, 8, 42, 13]\n",
    "numList = [4, 8, 22, 43, 42, 12, 8, 10, 1, 10, 32, 28, 8, 42, 13]\n",
    "length = len(numList)\n",
    "\n",
    "#a. Use a for loop to print every item in the list\n",
    "for i in range(0,length,1):\n",
    "    print (numList[i])\n",
    "\n",
    "#b. Use a loop to remove all occurrences of 42 from the list\n",
    "value = 42\n",
    "\n",
    "#b. Use a loop to remove all occurrences of 42 from the list\n",
    "for i in range(0, len(numList),1): #looping for the entire length of the list\n",
    "    if value in numList:\n",
    "        nice = numList.index(value)\n",
    "        del numList[nice]\n",
    "    else:\n",
    "        break\n",
    "print (numList) #printing the modified list\n",
    "\n",
    "#c. Use the list.index() function to find 1, and the replace it with 7\n",
    "numList[numList.index(1)] = 7\n",
    "print (numList) #printing the modified list\n",
    "\n",
    "#d. Use a for loop to print all of the index values of 8. \n",
    "dups = [i for i in range(len(numList)) if numList[i] == 8] #learned from a video about lists\n",
    "print (dups)"
   ]
  },
  {
   "cell_type": "code",
   "execution_count": 1,
   "metadata": {},
   "outputs": [
    {
     "output_type": "execute_result",
     "data": {
      "text/plain": [
       "4"
      ]
     },
     "metadata": {},
     "execution_count": 1
    }
   ],
   "source": [
    "numList = [4, 8, 22, 43, 42, 12, 8, 10, 1, 10, 32, 28, 8, 42, 13]\n",
    "\n",
    "#3. Create a function that takes a list and a value.  The function returns the index location of the first located value, if the value is not in the list, -1 is returned.\n",
    "def islisted(array,value):\n",
    "    if value in array:\n",
    "        nice = array.index(value)\n",
    "        return nice\n",
    "    else:\n",
    "        run = -1\n",
    "        return run\n",
    "islisted(numList, 42)"
   ]
  },
  {
   "cell_type": "code",
   "execution_count": 42,
   "metadata": {},
   "outputs": [
    {
     "output_type": "stream",
     "name": "stdout",
     "text": [
      "[4, 8, 22, 43, 8, 12, 8, 10, 1, 10, 32, 28, 8, 8, 13]\n2 replacements were made.\n"
     ]
    }
   ],
   "source": [
    "#4. Create a function that takes a list and 2 values.  The function replaces all occurrences of the first value with the second.  The function returns the number of replacements that were completed\n",
    "numList = [4, 8, 22, 43, 42, 12, 8, 10, 1, 10, 32, 28, 8, 42, 13]\n",
    "def bulkreplace(array, value1, value2):\n",
    "    count = 0\n",
    "    for i in range(0, len(array),1): #looping for the entire length of the list\n",
    "        if value1 in array:\n",
    "            nice = array.index(value1)\n",
    "            numList[nice] = value2\n",
    "            count += 1 #counting how many replacements were made\n",
    "        else:\n",
    "            break\n",
    "    print (numList) #printing the modified list\n",
    "    print (count, \"replacements were made.\") #printing how many replacements were made\n",
    "bulkreplace(numList, 42, 8) #calling the function"
   ]
  },
  {
   "cell_type": "code",
   "execution_count": 45,
   "metadata": {},
   "outputs": [
    {
     "output_type": "execute_result",
     "data": {
      "text/plain": [
       "[1, 6, 12]"
      ]
     },
     "metadata": {},
     "execution_count": 45
    }
   ],
   "source": [
    "numList = [4, 8, 22, 43, 42, 12, 8, 10, 1, 10, 32, 28, 8, 42, 13]\n",
    "\n",
    "#5. Create a function that takes a list and a value.  The function returns a list of all of the indexes where the value was found.\n",
    "def findlist(array, value):\n",
    "    dups = [i for i in range(len(array)) if array[i] == value] #learned from a video about lists\n",
    "    return dups\n",
    "findlist(numList, 8) #calling the function"
   ]
  },
  {
   "cell_type": "code",
   "execution_count": 38,
   "metadata": {},
   "outputs": [
    {
     "output_type": "stream",
     "name": "stdout",
     "text": [
      "[37, 29, 32, 2, 10, 22, 40, 5, 19, 20, 46, 21, 45, 33, 50, 3, 7, 35, 28, 36, 14, 9, 23, 8, 30, 49, 11, 12, 38, 24, 18, 17, 4, 42, 47, 6, 16, 31, 39, 1, 34, 43, 44, 25, 48, 13, 41, 26, 15, 27]\n"
     ]
    }
   ],
   "source": [
    "#6. Create a file of numbers separated by spaces.  Create a function that reads the file and adds each number to a list.  Return the list\n",
    "\n",
    "# creating a variable for the text file and opening them\n",
    "spacenumbers = open(\"spacenumbers.txt\", \"r\")\n",
    "\n",
    "for line in spacenumbers:\n",
    "    line = line.split() #to remove the blank spaces \n",
    "\n",
    "for i in range(0, len(line)): #to turn the number from a string to an integer\n",
    "\tline[i] = int(line[i])\n",
    "\n",
    "print (line) #printing the list to make sure it worked\n",
    "\n",
    "spacenumbers.close()"
   ]
  },
  {
   "cell_type": "code",
   "execution_count": 43,
   "metadata": {},
   "outputs": [
    {
     "output_type": "stream",
     "name": "stdout",
     "text": [
      "4\n8\n22\n43\n42\n12\n8\n10\n1\n10\n32\n28\n8\n42\n13\n"
     ]
    }
   ],
   "source": [
    "numList = [4, 8, 22, 43, 42, 12, 8, 10, 1, 10, 32, 28, 8, 42, 13]\n",
    "\n",
    "#7. Create a function that takes a list and writes each value to a new line in a file.\n",
    "def writefile(chosenlist, filename):\n",
    "    # creating a variable for the text file and opening it\n",
    "    log = open (filename, \"w\")\n",
    "\n",
    "    length = len(chosenlist)\n",
    "\n",
    "    for i in range(0,length,1):\n",
    "        print (chosenlist[i]) # printing the text to the console for debugging\n",
    "        log.write(str(chosenlist[i]) + \"\\n\") #writing the text to the other file (\\n forces the input onto another line)\n",
    "\n",
    "    log.close() #closing the file\n",
    "writefile(numList, \"numList.txt\") #calling the function"
   ]
  },
  {
   "cell_type": "code",
   "execution_count": 3,
   "metadata": {},
   "outputs": [
    {
     "output_type": "execute_result",
     "data": {
      "text/plain": [
       "1"
      ]
     },
     "metadata": {},
     "execution_count": 3
    }
   ],
   "source": [
    "#8. Create a function that takes a list and returns the smallest value.  Use a for loop, don’t use the built-in function.\n",
    "numList = [4, 8, 22, 43, 42, 12, 8, 10, 1, 10, 32, 28, 8, 42, 13]\n",
    "\n",
    "#I found a tutorial on youtube on how to do this in javascript and tried to translate the logic into python.\n",
    "\n",
    "def smallestNumber(array):\n",
    "    myMin = array[0] #setting the minimum value as the first value in the string\n",
    "    for num in array:\n",
    "        if myMin > num: #if there is a number lower than the minimum, set that number as the new minimum\n",
    "            myMin = num\n",
    "    return myMin #returning the result when the string is done\n",
    "\n",
    "smallestNumber(numList) #calling the function"
   ]
  },
  {
   "cell_type": "code",
   "execution_count": 69,
   "metadata": {},
   "outputs": [
    {
     "output_type": "stream",
     "name": "stdout",
     "text": [
      "8\n"
     ]
    }
   ],
   "source": [
    "#9. Create a list of lists and try to access individual values\n",
    "list1 = [4, 8, 22, 43, 42, 12, 8, 10, 1, 10, 32, 28, 8, 42, 13]\n",
    "list2 = [1, 2, 3, 4, 5, 6, 7, 8, 9, 10, 11, 12, 13, 14, 15]\n",
    "list3 = [1, 1, 22, 8, 0, 4, 18, 6, 4, 3, 7, 1, 8, 8, 10]\n",
    "list4 = [list1,list2,list3]\n",
    "list5 = [list1,list2,list3,list4]\n",
    "print (list5[3][0][1]) # there is a way of getting individual values within a list of lists."
   ]
  },
  {
   "cell_type": "code",
   "execution_count": null,
   "metadata": {},
   "outputs": [],
   "source": []
  }
 ]
}