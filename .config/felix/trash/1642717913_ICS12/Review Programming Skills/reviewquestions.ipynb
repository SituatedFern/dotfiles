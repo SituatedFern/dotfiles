{
 "cells": [
  {
   "cell_type": "markdown",
   "source": [
    "1. Complete the function that returns a list with the given properties:\r\n",
    "List contains an even number of random integers within a given range. Half the values must be odd, half the values must be even.\r\n",
    "\r\n",
    "def even_odd_list(number_values, low_value, high_value):\r\n",
    "    pass\r\n",
    "\r\n",
    "Example\r\n",
    "even_odd_list(6, 10, 20) --->  [11, 13, 17, 12, 14, 20]"
   ],
   "metadata": {}
  },
  {
   "cell_type": "code",
   "execution_count": null,
   "source": [
    "import random\r\n",
    "\r\n",
    "listname = []\r\n",
    "\r\n",
    "def even_odd_list(number_values, low_value, high_value):\r\n",
    "    for num in range (number_values):\r\n",
    "        num = random.randint(low_value, high_value)\r\n",
    "        listname.append(num)\r\n",
    "\r\n",
    "even_odd_list(6,5,20)\r\n",
    "print(listname)"
   ],
   "outputs": [],
   "metadata": {}
  },
  {
   "cell_type": "markdown",
   "source": [
    "2. Complete the function that creates a dictionary provided given school code and school name lists.\r\n",
    "\r\n",
    "def create_school_dictionary(school_codes, school_names):\r\n",
    "      pass\r\n",
    "\r\n",
    "Example\r\n",
    "create_school_dictionary(['aph', 'irs'], ['Abbey Park', 'Iroquois Ridge']) ---> {'aph':'Abbey Park High School', 'irs':Iroquois Ridge High School'}"
   ],
   "metadata": {}
  },
  {
   "cell_type": "code",
   "execution_count": null,
   "source": [
    "print(\"Do this later.\")"
   ],
   "outputs": [],
   "metadata": {}
  },
  {
   "cell_type": "markdown",
   "source": [
    "3. Determine the value that will print to the console\r\n",
    "\r\n",
    "word = \"yellowstone\"\r\n",
    "print( word[ 4 : 7] )\r\n",
    "a. ows\r\n",
    "b. owst\r\n",
    "c. low\r\n",
    "d. lows"
   ],
   "metadata": {}
  },
  {
   "cell_type": "code",
   "execution_count": null,
   "source": [
    "print(\"Answer: ows\")"
   ],
   "outputs": [],
   "metadata": {}
  },
  {
   "cell_type": "markdown",
   "source": [],
   "metadata": {}
  }
 ],
 "metadata": {
  "orig_nbformat": 4,
  "language_info": {
   "name": "python"
  }
 },
 "nbformat": 4,
 "nbformat_minor": 2
}