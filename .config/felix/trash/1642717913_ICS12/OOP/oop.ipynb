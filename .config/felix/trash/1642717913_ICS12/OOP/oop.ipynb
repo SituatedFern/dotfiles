{
 "cells": [
  {
   "cell_type": "markdown",
   "metadata": {},
   "source": [
    "What happens when you print an instance of an object?"
   ]
  },
  {
   "cell_type": "code",
   "execution_count": 1,
   "metadata": {},
   "outputs": [
    {
     "name": "stdout",
     "output_type": "stream",
     "text": [
      "Hello world\n"
     ]
    }
   ],
   "source": [
    "import astronomy as a\n",
    "\n",
    "earth = a.Planet(\"earth\", 6378.1, 1, 149.6)\n",
    "\n",
    "print(earth) #console output: get memory location <astronomyPlanet object at 0x103bb>\n",
    "earth.print_planet() #awkward - create a function to print?"
   ]
  },
  {
   "cell_type": "markdown",
   "metadata": {},
   "source": [
    "Coding the Magic Methods:\n",
    "A simple way to make our newly defined objects to behave similar to python's native data types. This makes your objects more consisten.\n",
    "\n",
    "The __functions of Python are availible to be customized for every object."
   ]
  },
  {
   "cell_type": "code",
   "execution_count": null,
   "metadata": {},
   "outputs": [],
   "source": [
    "class Planet:\n",
    "    def __str__ (self): # I\n",
    "        return f'{self._name}, mass = {self._mass}'\n",
    "        # we define what we want on the console\n",
    "\n",
    "import astronomy as a\n",
    "\n",
    "earth = a.Planet(\"earth\", 6378.1, 1, 149.6)\n",
    "\n",
    "print(earth) # behind scenes: print links to __str__"
   ]
  },
  {
   "cell_type": "markdown",
   "metadata": {},
   "source": [
    "Applying it:"
   ]
  },
  {
   "cell_type": "code",
   "execution_count": null,
   "metadata": {},
   "outputs": [],
   "source": [
    "class Planet:\n",
    "\n",
    "    def __eq__ (self, other):\n",
    "        return self._distance == other.distance()\n",
    "    \n",
    "    def __ne__ (self, other):\n",
    "        return self._distance != other.distance()\n",
    "    \n",
    "    def __lt__ (self, other):\n",
    "        return self._distance < other.distance()\n",
    "    #              ^                 ^\n",
    "    #reference attributes directly | use getter function for other obj\n",
    "\n",
    "#APPLICATION\n",
    "\n",
    "import astronomy as a\n",
    "\n",
    "earth = a.Planet(\"earth\", 6378.1, 1, 149.6)\n",
    "mercury = a.Planet(\"mercury\", 2439.7, 0.0553, 57.91)\n",
    "saturn = a.Planet(\"saturn\", 58232, 95.2, 1434)"
   ]
  },
  {
   "cell_type": "markdown",
   "metadata": {},
   "source": [
    "Arithmatic, Containers, etc ..."
   ]
  },
  {
   "cell_type": "code",
   "execution_count": null,
   "metadata": {},
   "outputs": [],
   "source": [
    "class PencilCase:\n",
    "    def __init__(self, numzips, colour, size, mat):\n",
    "        self._numzips = numzips\n",
    "        self._colour = colour\n",
    "        self._contents = []\n",
    "        self._size = size\n",
    "        self._material = mat\n",
    "    \n",
    "    def __contains__(self, item):\n",
    "        return item in self._contents\n",
    "\n",
    "    def __len__(self):\n",
    "        return len(self._contents)\n",
    "\n",
    "    def __add__(self, other):\n",
    "        new = PencilCase(  *other_values* , max(self._size, other.size()))\n",
    "        new._contents = self._contents\n",
    "        new._contents.extend(other.contents())\n",
    "\n",
    "'''==============================================================================='''\n",
    "\n",
    "bukunmi_case = school.PencilCase(4, 'black', 8, 'cloth')\n",
    "angela_case = school.PencilCase(0, 'clear', 4, 'plastic')\n",
    "new_case = angela_case + bukunmi_case"
   ]
  },
  {
   "cell_type": "markdown",
   "metadata": {},
   "source": [
    "Human readable vs Object representation\n",
    "__str__ vs __repr__"
   ]
  },
  {
   "cell_type": "code",
   "execution_count": null,
   "metadata": {},
   "outputs": [],
   "source": [
    "class Planet:\n",
    "\n",
    "    def __init__(self, name, radius, mass, distance):\n",
    "        self._name = name\n",
    "        self._radius = radius\n",
    "        self._mass = mass\n",
    "        self._distance = distance\n",
    "\n",
    "    def __str__(self):\n",
    "        return\n",
    "        #see earlier example --> used for console based calls (human readable)\n",
    "\n",
    "    def __repr__(self):\n",
    "        return f'Planet(name = {self._name}, radius = {self._radius}, mass = {self._mass}, distance = {self._distance})'\n",
    "        #used as Object representation of instance to recreate the object.\n",
    "\n",
    "#APPLICATION\n",
    "\n",
    "earth = a.Planet(\"earth\", 6378.1, 1, 149.6)\n",
    "mercury = a.Planet(\"mercury\", 2439.7, 0.0553, 57.91)\n",
    "saturn = a.Planet(\"saturn\", 58232, 95.2, 1434)\n",
    "\n",
    "planet_list = [earth, mercury, saturn]\n",
    "\n",
    "print(planet_list)\n",
    "\n",
    "for p in planet_list:\n",
    "    print(p)"
   ]
  }
 ],
 "metadata": {
  "interpreter": {
   "hash": "450770b194ad3c526d72e78f0fffc46d9f199ddffc77daa2aadce905eb3548da"
  },
  "kernelspec": {
   "display_name": "Python 3.7.7 64-bit",
   "language": "python",
   "name": "python3"
  },
  "language_info": {
   "codemirror_mode": {
    "name": "ipython",
    "version": 3
   },
   "file_extension": ".py",
   "mimetype": "text/x-python",
   "name": "python",
   "nbconvert_exporter": "python",
   "pygments_lexer": "ipython3",
   "version": "3.7.7"
  },
  "orig_nbformat": 4
 },
 "nbformat": 4,
 "nbformat_minor": 2
}
